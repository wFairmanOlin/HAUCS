{
 "cells": [
  {
   "cell_type": "code",
   "execution_count": 3,
   "metadata": {},
   "outputs": [
    {
     "name": "stdout",
     "output_type": "stream",
     "text": [
      "making new app\n"
     ]
    }
   ],
   "source": [
    "import numpy as np\n",
    "import json\n",
    "import matplotlib.pyplot as plt\n",
    "import matplotlib.dates as mdates\n",
    "import pandas as pd\n",
    "from datetime import datetime\n",
    "from datetime import timedelta\n",
    "import firebase_admin\n",
    "from firebase_admin import db\n",
    "from firebase_admin import credentials\n",
    "import pytz\n",
    "\n",
    "\n",
    "### ONLY RUN ONCE! ###\n",
    "#download data from firebase\n",
    "try:\n",
    "    firebase_admin.delete_app(app)\n",
    "except:\n",
    "    print('making new app')\n",
    "cred = credentials.Certificate(\"fb_key.json\")\n",
    "app = firebase_admin.initialize_app(cred, {'databaseURL': 'https://haucs-monitoring-default-rtdb.firebaseio.com'})\n"
   ]
  },
  {
   "cell_type": "code",
   "execution_count": 6,
   "metadata": {},
   "outputs": [],
   "source": [
    "data = db.reference('LH_Farm/pond_lab_tank/').get()"
   ]
  },
  {
   "cell_type": "code",
   "execution_count": 23,
   "metadata": {},
   "outputs": [
    {
     "name": "stdout",
     "output_type": "stream",
     "text": [
      "[27.5352269 27.5352194 27.5352261 27.5352256 27.5352208 27.5352208\n",
      " 27.5352257 27.5352242] [-80.3517067 -80.3517089 -80.351689  -80.3516881 -80.3516916 -80.3516916\n",
      " -80.3516908 -80.3517037]\n",
      "27.5352237\n",
      "-80.3516963\n"
     ]
    }
   ],
   "source": [
    "lats = []\n",
    "lons = []\n",
    "for key in data.keys():\n",
    "    lats.append(data[key]['lat'])\n",
    "    lons.append(data[key]['lng'])\n",
    "\n",
    "lats = np.array(lats)\n",
    "lons = np.array(lons)\n",
    "\n",
    "print(lats, lons)\n",
    "print(round(lats.mean(),7))\n",
    "print(round(lons.mean(), 7))"
   ]
  }
 ],
 "metadata": {
  "kernelspec": {
   "display_name": "lab2",
   "language": "python",
   "name": "python3"
  },
  "language_info": {
   "codemirror_mode": {
    "name": "ipython",
    "version": 3
   },
   "file_extension": ".py",
   "mimetype": "text/x-python",
   "name": "python",
   "nbconvert_exporter": "python",
   "pygments_lexer": "ipython3",
   "version": "3.11.4"
  }
 },
 "nbformat": 4,
 "nbformat_minor": 2
}
