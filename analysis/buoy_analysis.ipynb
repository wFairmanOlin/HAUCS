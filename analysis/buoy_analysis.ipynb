{
 "cells": [
  {
   "cell_type": "code",
   "execution_count": 1,
   "metadata": {},
   "outputs": [
    {
     "name": "stderr",
     "output_type": "stream",
     "text": [
      "/Users/wfairman/opt/anaconda3/envs/lab2/lib/python3.11/site-packages/pandas/core/arrays/masked.py:60: UserWarning: Pandas requires version '1.3.6' or newer of 'bottleneck' (version '1.3.5' currently installed).\n",
      "  from pandas.core import (\n"
     ]
    },
    {
     "name": "stdout",
     "output_type": "stream",
     "text": [
      "making new app\n"
     ]
    }
   ],
   "source": [
    "import numpy as np\n",
    "import json\n",
    "import matplotlib.pyplot as plt\n",
    "import matplotlib.dates as mdates\n",
    "import pandas as pd\n",
    "from datetime import datetime\n",
    "from datetime import timedelta\n",
    "import firebase_admin\n",
    "from firebase_admin import db\n",
    "from firebase_admin import credentials\n",
    "import pytz\n",
    "\n",
    "\n",
    "def to_datetime(dates, zone=\"US/Eastern\", tz_aware=True):\n",
    "    \"\"\"\n",
    "    Standardizes the various types of string datetime formats\n",
    "    \"\"\"\n",
    "    dt = []\n",
    "    for i in dates:\n",
    "        try:\n",
    "            i_dt = datetime.strptime(i, '%Y%m%d_%H:%M:%S')\n",
    "        except:\n",
    "            print(i)\n",
    "        if tz_aware:\n",
    "            # tz = pytz.timezone('US/Eastern')\n",
    "            tz = pytz.timezone('UTC')\n",
    "            i_dt = tz.localize(i_dt)\n",
    "            dt.append(i_dt.astimezone(pytz.timezone(zone)))\n",
    "        else:\n",
    "            dt.append(i_dt)\n",
    "    return np.array(dt)  \n",
    "\n",
    "### ONLY RUN ONCE! ###\n",
    "#download data from firebase\n",
    "try:\n",
    "    firebase_admin.delete_app(app)\n",
    "except:\n",
    "    print('making new app')\n",
    "cred = credentials.Certificate(\"../fb_key.json\")\n",
    "app = firebase_admin.initialize_app(cred, {'databaseURL': 'https://haucs-monitoring-default-rtdb.firebaseio.com'})"
   ]
  },
  {
   "cell_type": "code",
   "execution_count": 2,
   "metadata": {},
   "outputs": [],
   "source": [
    "data = db.reference('LH_Farm/').order_by_key().start_at(\"p\").get()"
   ]
  },
  {
   "cell_type": "code",
   "execution_count": 5,
   "metadata": {},
   "outputs": [],
   "source": [
    "init_do = []\n",
    "for i in data:\n",
    "    if i[5:].isnumeric():\n",
    "        for j in data[i]:\n",
    "            entry = data[i][j]\n",
    "            if entry['type'] == \"truck\":\n",
    "                init_do.append(entry['init_do'])\n",
    "\n",
    "init_do = np.array(init_do)"
   ]
  },
  {
   "cell_type": "code",
   "execution_count": 4,
   "metadata": {},
   "outputs": [
    {
     "data": {
      "text/plain": [
       "array([  0,  10,  20,  30,  40,  50,  60,  70,  80,  90, 100, 110, 120,\n",
       "       130, 140, 150, 160, 170, 180])"
      ]
     },
     "execution_count": 4,
     "metadata": {},
     "output_type": "execute_result"
    }
   ],
   "source": [
    "np.arange(19) * 10"
   ]
  },
  {
   "cell_type": "code",
   "execution_count": 31,
   "metadata": {},
   "outputs": [
    {
     "data": {
      "text/plain": [
       "0"
      ]
     },
     "execution_count": 31,
     "metadata": {},
     "output_type": "execute_result"
    }
   ],
   "source": [
    "init_do = init_do.astype('int')\n",
    "init_do.min"
   ]
  },
  {
   "cell_type": "code",
   "execution_count": 36,
   "metadata": {},
   "outputs": [
    {
     "name": "stdout",
     "output_type": "stream",
     "text": [
      "[  0  10  20  30  40  50  60  70  80  90 100 110 120 130 140 150 160 170\n",
      " 180 190 200 210 220 230 240]\n",
      "[ 4 16 16 ... 15 15 15]\n",
      "[  0  12   0  47  54  76 110 317 444 393 478 646 636 575 435 365 284 260\n",
      " 118 114   0   0   0   0   4  92]\n",
      "113.87124542124542 38.791677304793815\n"
     ]
    },
    {
     "data": {
      "image/png": "[encoded data removed]",
      "text/plain": [
       "<Figure size 640x480 with 1 Axes>"
      ]
     },
     "metadata": {},
     "output_type": "display_data"
    }
   ],
   "source": [
    "bins = np.arange(25) * 10\n",
    "print(bins)\n",
    "indices = np.digitize(init_do, bins)\n",
    "print(indices)\n",
    "x = np.bincount(indices)\n",
    "print(x)\n",
    "plt.bar(bins, x[:-1], width=4)\n",
    "plt.xlabel(\"DO Calibration Value\")\n",
    "plt.ylabel(\"Number of Occurrences\")\n",
    "plt.savefig('calibration_occurences.png')\n",
    "\n",
    "print(init_do.mean(), init_do.std())"
   ]
  },
  {
   "cell_type": "code",
   "execution_count": 6,
   "metadata": {},
   "outputs": [
    {
     "name": "stdout",
     "output_type": "stream",
     "text": [
      "pond_1\n"
     ]
    },
    {
     "ename": "UnboundLocalError",
     "evalue": "cannot access local variable 'i_dt' where it is not associated with a value",
     "output_type": "error",
     "traceback": [
      "\u001b[0;31m---------------------------------------------------------------------------\u001b[0m",
      "\u001b[0;31mUnboundLocalError\u001b[0m                         Traceback (most recent call last)",
      "Cell \u001b[0;32mIn[6], line 2\u001b[0m\n\u001b[1;32m      1\u001b[0m dt_list \u001b[38;5;241m=\u001b[39m \u001b[38;5;28mlist\u001b[39m(data\u001b[38;5;241m.\u001b[39mkeys())\n\u001b[0;32m----> 2\u001b[0m dt \u001b[38;5;241m=\u001b[39m \u001b[43mto_datetime\u001b[49m\u001b[43m(\u001b[49m\u001b[43mdt_list\u001b[49m\u001b[43m)\u001b[49m\n\u001b[1;32m      4\u001b[0m init_do \u001b[38;5;241m=\u001b[39m data[dt_list[\u001b[38;5;241m0\u001b[39m]][\u001b[38;5;124m'\u001b[39m\u001b[38;5;124minit_do\u001b[39m\u001b[38;5;124m'\u001b[39m]\n\u001b[1;32m      5\u001b[0m init_p \u001b[38;5;241m=\u001b[39m data[dt_list[\u001b[38;5;241m0\u001b[39m]][\u001b[38;5;124m'\u001b[39m\u001b[38;5;124minit_pressure\u001b[39m\u001b[38;5;124m'\u001b[39m]\n",
      "Cell \u001b[0;32mIn[1], line 27\u001b[0m, in \u001b[0;36mto_datetime\u001b[0;34m(dates, zone, tz_aware)\u001b[0m\n\u001b[1;32m     24\u001b[0m \u001b[38;5;28;01mif\u001b[39;00m tz_aware:\n\u001b[1;32m     25\u001b[0m     \u001b[38;5;66;03m# tz = pytz.timezone('US/Eastern')\u001b[39;00m\n\u001b[1;32m     26\u001b[0m     tz \u001b[38;5;241m=\u001b[39m pytz\u001b[38;5;241m.\u001b[39mtimezone(\u001b[38;5;124m'\u001b[39m\u001b[38;5;124mUTC\u001b[39m\u001b[38;5;124m'\u001b[39m)\n\u001b[0;32m---> 27\u001b[0m     i_dt \u001b[38;5;241m=\u001b[39m tz\u001b[38;5;241m.\u001b[39mlocalize(\u001b[43mi_dt\u001b[49m)\n\u001b[1;32m     28\u001b[0m     dt\u001b[38;5;241m.\u001b[39mappend(i_dt\u001b[38;5;241m.\u001b[39mastimezone(pytz\u001b[38;5;241m.\u001b[39mtimezone(zone)))\n\u001b[1;32m     29\u001b[0m \u001b[38;5;28;01melse\u001b[39;00m:\n",
      "\u001b[0;31mUnboundLocalError\u001b[0m: cannot access local variable 'i_dt' where it is not associated with a value"
     ]
    }
   ],
   "source": [
    "dt_list = list(data.keys())\n",
    "dt = to_datetime(dt_list)\n",
    "\n",
    "init_do = data[dt_list[0]]['init_do']\n",
    "init_p = data[dt_list[0]]['init_pressure']\n",
    "\n",
    "t = np.array([np.mean(data[i]['temp']) for i in data])\n",
    "do = np.array([np.mean(data[i]['do'])/init_do for i in data]) * 100\n",
    "p = np.array([np.mean(data[i]['pressure']) - init_p for i in data]) * 0.010227\n",
    "batt_v = np.array([data[i]['batt_v'] for i in data])\n",
    "\n",
    "print(dt[-1], data[dt_list[-1]]['batt_v'])"
   ]
  }
 ],
 "metadata": {
  "kernelspec": {
   "display_name": "lab2",
   "language": "python",
   "name": "python3"
  },
  "language_info": {
   "codemirror_mode": {
    "name": "ipython",
    "version": 3
   },
   "file_extension": ".py",
   "mimetype": "text/x-python",
   "name": "python",
   "nbconvert_exporter": "python",
   "pygments_lexer": "ipython3",
   "version": "3.11.4"
  }
 },
 "nbformat": 4,
 "nbformat_minor": 2
}
