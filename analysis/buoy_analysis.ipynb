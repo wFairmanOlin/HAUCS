{
 "cells": [
  {
   "cell_type": "code",
   "execution_count": 2,
   "metadata": {},
   "outputs": [
    {
     "name": "stdout",
     "output_type": "stream",
     "text": [
      "making new app\n"
     ]
    }
   ],
   "source": [
    "import numpy as np\n",
    "import json\n",
    "import matplotlib.pyplot as plt\n",
    "import matplotlib.dates as mdates\n",
    "import pandas as pd\n",
    "from datetime import datetime\n",
    "from datetime import timedelta\n",
    "import firebase_admin\n",
    "from firebase_admin import db\n",
    "from firebase_admin import credentials\n",
    "import pytz\n",
    "\n",
    "\n",
    "def to_datetime(dates, zone=\"US/Eastern\", tz_aware=True):\n",
    "    \"\"\"\n",
    "    Standardizes the various types of string datetime formats\n",
    "    \"\"\"\n",
    "    dt = []\n",
    "    for i in dates:\n",
    "        try:\n",
    "            i_dt = datetime.strptime(i, '%Y%m%d_%H:%M:%S')\n",
    "        except:\n",
    "            print(i)\n",
    "        if tz_aware:\n",
    "            # tz = pytz.timezone('US/Eastern')\n",
    "            tz = pytz.timezone('UTC')\n",
    "            i_dt = tz.localize(i_dt)\n",
    "            dt.append(i_dt.astimezone(pytz.timezone(zone)))\n",
    "        else:\n",
    "            dt.append(i_dt)\n",
    "    return np.array(dt)  \n",
    "\n",
    "### ONLY RUN ONCE! ###\n",
    "#download data from firebase\n",
    "try:\n",
    "    firebase_admin.delete_app(app)\n",
    "except:\n",
    "    print('making new app')\n",
    "cred = credentials.Certificate(\"../fb_key.json\")\n",
    "app = firebase_admin.initialize_app(cred, {'databaseURL': 'https://haucs-monitoring-default-rtdb.firebaseio.com'})"
   ]
  },
  {
   "cell_type": "code",
   "execution_count": 6,
   "metadata": {},
   "outputs": [],
   "source": [
    "# data = db.reference('LH_Farm/').order_by_key().start_at(\"p\").get()\n"
   ]
  },
  {
   "cell_type": "code",
   "execution_count": 7,
   "metadata": {},
   "outputs": [
    {
     "data": {
      "text/plain": [
       "odict_keys(['20240911_18:54:32', '20240911_19:14:39', '20240911_19:34:40', '20240911_19:54:56', '20240911_20:15:04', '20240911_20:35:04', '20240911_20:55:20', '20240911_21:15:28', '20240911_21:35:44', '20240911_21:56:00', '20240911_22:16:00', '20240911_22:36:16', '20240911_22:56:16', '20240911_23:16:24', '20240911_23:36:24', '20240911_23:56:24', '20240912_00:16:32', '20240912_00:36:32', '20240912_00:56:48', '20240912_01:16:56', '20240912_01:37:11', '20240912_01:57:27', '20240912_02:17:36', '20240912_02:37:51', '20240912_02:57:51', '20240912_03:18:07', '20240912_03:38:08', '20240912_03:58:24', '20240912_04:18:32', '20240912_04:38:48', '20240912_04:58:48', '20240912_05:18:56', '20240912_05:38:56', '20240912_05:59:12', '20240912_06:19:20', '20240912_06:39:36', '20240912_06:59:44', '20240912_07:19:50', '20240912_07:39:58', '20240912_08:00:08', '20240912_08:20:14', '20240912_08:40:23', '20240912_09:00:39', '20240912_09:20:46', '20240912_09:40:55', '20240912_10:01:05', '20240912_10:21:10', '20240912_10:41:18', '20240912_11:01:28', '20240912_11:21:41', '20240912_11:41:35', '20240912_12:01:45', '20240912_12:21:50', '20240912_12:41:58', '20240912_13:02:13', '20240912_13:42:14', '20240912_14:22:30', '20240912_14:42:38', '20240912_15:02:53', '20240912_15:22:46', '20240912_15:42:55', '20240912_16:02:56', '20240912_16:23:04', '20240912_16:43:20', '20240912_17:03:35', '20240912_17:23:44', '20240912_17:43:44', '20240912_18:03:44', '20240912_18:24:00', '20240912_18:44:00', '20240912_19:04:16', '20240912_19:17:27', '20240912_19:17:42', '20240912_19:17:56', '20240912_19:21:42', '20240912_19:21:57', '20240912_19:22:12', '20240912_19:24:32', '20240912_19:29:38', '20240912_19:49:53', '20240912_20:10:09', '20240912_20:30:25', '20240912_20:50:33', '20240912_21:10:33', '20240912_21:30:33', '20240912_21:50:49', '20240912_22:10:49', '20240912_22:31:05', '20240912_22:51:21', '20240912_23:11:21', '20240912_23:31:37', '20240912_23:51:53', '20240913_00:11:53', '20240913_00:31:53', '20240913_00:51:53', '20240913_01:11:53', '20240913_01:32:09', '20240913_01:52:16', '20240913_02:12:16', '20240913_02:32:17', '20240913_02:52:33', '20240913_03:12:33', '20240913_03:32:33', '20240913_03:52:33', '20240913_04:12:49', '20240913_04:33:05', '20240913_04:53:05', '20240913_05:13:05', '20240913_05:33:05', '20240913_05:53:05', '20240913_06:13:21', '20240913_06:33:37', '20240913_06:53:53', '20240913_07:13:53', '20240913_07:34:09', '20240913_07:54:16', '20240913_08:14:16', '20240913_08:34:17', '20240913_08:54:17', '20240913_09:14:17', '20240913_09:34:17', '20240913_09:54:25', '20240913_10:14:41', '20240913_10:34:57', '20240913_10:54:57', '20240913_11:15:13', '20240913_11:35:13', '20240913_11:55:29', '20240913_11:58:10', '20240913_11:58:24', '20240913_12:15:29', '20240913_12:35:45', '20240913_12:56:01', '20240913_13:16:16', '20240913_13:36:17', '20240913_13:56:24', '20240913_14:16:41', '20240913_14:36:56', '20240913_14:56:57', '20240913_15:17:12', '20240913_15:37:13', '20240913_15:57:28', '20240913_16:17:29', '20240913_16:37:29', '20240913_16:57:45', '20240913_17:18:01', '20240913_17:38:01', '20240913_17:58:01', '20240913_18:18:01', '20240913_18:38:17', '20240913_18:58:25', '20240913_19:18:41', '20240913_19:38:57', '20240913_19:59:05', '20240913_20:15:53', '20240913_20:36:08', '20240913_21:16:08', '20240913_21:36:24', '20240913_21:56:25', '20240913_22:16:41', '20240913_22:36:56', '20240913_22:57:12', '20240913_23:17:12', '20240913_23:37:13', '20240913_23:57:29', '20240914_00:17:44', '20240914_00:37:45', '20240914_00:58:01', '20240914_01:18:01', '20240914_01:38:17', '20240914_01:58:33', '20240914_02:18:49', '20240914_02:39:04', '20240914_02:59:04', '20240914_03:19:04', '20240914_03:39:13', '20240914_03:59:13', '20240914_04:19:29', '20240914_04:39:29', '20240914_04:59:45', '20240914_05:20:01', '20240914_05:40:01', '20240914_06:00:01', '20240914_06:20:01', '20240914_06:40:01', '20240914_07:00:17', '20240914_07:20:17', '20240914_07:40:33', '20240914_08:00:49', '20240914_08:21:04', '20240914_08:41:05', '20240914_09:01:20', '20240914_09:21:21', '20240914_09:41:21', '20240914_10:01:29', '20240914_10:21:29', '20240914_10:41:29', '20240914_11:01:45', '20240914_11:21:45', '20240914_11:26:38', '20240914_11:41:53', '20240914_12:02:09', '20240914_12:22:24', '20240914_12:42:33', '20240914_13:02:33', '20240914_13:22:48', '20240914_13:42:57', '20240914_14:02:57', '20240914_14:23:12', '20240914_14:43:20', '20240914_15:03:36', '20240914_15:23:52', '20240914_15:44:01', '20240914_16:04:16', '20240914_16:24:17', '20240914_16:44:25', '20240914_17:04:25', '20240914_17:24:49', '20240914_17:44:49', '20240914_18:04:49', '20240914_18:25:05', '20240914_18:45:05', '20240914_19:05:21', '20240914_19:25:37', '20240914_19:45:45', '20240914_20:04:28', '20240914_20:04:42', '20240914_20:05:45', '20240914_20:07:18', '20240914_20:07:32', '20240914_20:34:17', '20240914_20:54:33', '20240914_21:14:34', '20240914_21:34:49', '20240914_21:54:50', '20240914_22:15:05', '20240914_22:35:05', '20240914_22:55:06', '20240914_23:15:22', '20240914_23:35:37', '20240914_23:55:53', '20240915_00:15:53', '20240915_00:35:53', '20240915_00:55:54', '20240915_01:16:10', '20240915_01:36:10', '20240915_01:56:10', '20240915_02:16:10', '20240915_02:36:18', '20240915_02:56:34', '20240915_03:16:50', '20240915_03:36:50', '20240915_03:56:50', '20240915_04:17:06', '20240915_04:37:06', '20240915_04:57:06', '20240915_05:17:22', '20240915_05:37:38', '20240915_05:57:38', '20240915_06:17:54', '20240915_06:38:10', '20240915_06:58:10', '20240915_07:18:10', '20240915_07:38:26', '20240915_07:58:42', '20240915_08:18:58', '20240915_08:39:13', '20240915_08:59:29', '20240915_09:19:45', '20240915_09:39:46', '20240915_09:59:46', '20240915_10:20:02', '20240915_10:40:17', '20240915_11:00:33', '20240915_11:20:49', '20240915_11:23:02', '20240915_11:23:17', '20240915_11:34:12', '20240915_11:34:27', '20240915_11:40:49', '20240915_12:00:50', '20240915_12:21:06', '20240915_12:41:06', '20240915_13:01:22', '20240915_13:21:37', '20240915_13:41:46', '20240915_14:22:02', '20240915_14:42:02', '20240915_15:02:02', '20240915_15:22:02', '20240915_15:42:18', '20240915_16:02:34', '20240915_16:22:34', '20240915_16:42:50', '20240915_17:03:06', '20240915_17:23:22', '20240915_17:43:22', '20240915_18:03:22', '20240915_18:23:22', '20240915_18:43:38', '20240915_19:03:38', '20240915_19:23:38', '20240915_19:43:46', '20240915_20:04:02', '20240915_20:24:02', '20240915_20:44:18', '20240915_20:55:44', '20240915_20:55:59', '20240915_20:56:15', '20240915_20:59:05', '20240915_20:59:20', '20240915_21:15:54', '20240915_21:25:02', '20240915_21:45:18', '20240915_22:05:18', '20240915_22:25:34', '20240915_22:45:35', '20240915_23:05:35', '20240915_23:45:43', '20240916_00:05:43', '20240916_00:25:59', '20240916_00:46:15', '20240916_01:06:15', '20240916_01:26:31', '20240916_01:46:47', '20240916_02:06:47', '20240916_02:27:03', '20240916_02:47:18', '20240916_03:07:19', '20240916_03:27:19', '20240916_03:47:19', '20240916_04:07:35', '20240916_04:27:51', '20240916_04:47:51', '20240916_05:07:51', '20240916_05:27:51', '20240916_05:48:07', '20240916_06:08:23', '20240916_06:28:39', '20240916_07:08:54', '20240916_07:28:55', '20240916_07:49:17', '20240916_08:09:28', '20240916_08:29:33', '20240916_08:49:41', '20240916_09:09:50', '20240916_09:29:56', '20240916_09:50:06', '20240916_10:10:15', '20240916_10:30:22', '20240916_10:50:29', '20240916_11:10:38', '20240916_11:30:44', '20240916_11:50:53', '20240916_12:11:03', '20240916_13:06:48', '20240916_13:27:03', '20240916_13:47:03', '20240916_13:56:32', '20240916_14:16:47', '20240916_14:36:48', '20240916_15:26:55', '20240916_15:47:00', '20240916_16:07:16', '20240916_16:27:32', '20240916_16:47:39', '20240916_17:07:39', '20240916_17:27:40', '20240916_17:47:48', '20240916_18:07:48', '20240916_18:27:56', '20240916_18:48:04', '20240916_19:08:04', '20240916_19:28:20', '20240916_19:48:20', '20240916_19:57:04', '20240916_19:57:19', '20240916_19:57:33', '20240916_20:00:23', '20240916_20:00:39', '20240916_20:00:54', '20240916_20:01:14', '20240916_20:01:29', '20240916_20:01:44', '20240916_20:01:58', '20240916_20:08:36', '20240916_20:28:52', '20240916_20:49:08', '20240916_21:19:18', '20240916_21:31:19', '20240916_21:51:24', '20240916_22:11:24', '20240916_22:31:24', '20240916_22:51:39', '20240916_23:11:55', '20240916_23:31:55', '20240916_23:52:03', '20240917_00:12:04', '20240917_00:32:12', '20240917_00:52:19', '20240917_01:12:20', '20240917_01:32:20', '20240917_01:52:28', '20240917_02:12:36', '20240917_02:32:36', '20240917_02:52:44', '20240917_03:13:00', '20240917_03:33:16', '20240917_03:53:24', '20240917_04:13:40', '20240917_04:33:56', '20240917_04:54:03', '20240917_05:14:12', '20240917_05:34:12', '20240917_05:54:20', '20240917_06:14:36', '20240917_06:34:52', '20240917_06:54:59', '20240917_07:15:15', '20240917_07:35:15', '20240917_07:55:23', '20240917_08:15:24', '20240917_08:35:24', '20240917_08:55:32', '20240917_09:15:48', '20240917_09:35:48', '20240917_09:55:56', '20240917_10:16:12', '20240917_10:36:28', '20240917_10:56:36', '20240917_11:16:36', '20240917_11:36:52', '20240917_11:57:00', '20240917_12:17:00', '20240917_12:57:24', '20240917_13:14:16', '20240917_13:34:31', '20240917_13:54:46', '20240917_14:14:47', '20240917_14:34:55', '20240917_14:55:11', '20240917_15:15:11', '20240917_15:35:11', '20240917_15:55:27', '20240917_16:15:27', '20240917_16:35:43', '20240917_16:55:58', '20240917_17:15:59', '20240917_17:35:59', '20240917_17:56:14', '20240917_18:16:15', '20240917_18:36:23', '20240917_18:56:23', '20240917_19:16:23', '20240917_19:36:31', '20240917_19:49:53', '20240917_19:50:07', '20240917_19:50:22', '20240917_19:53:28', '20240917_19:53:43', '20240917_19:53:58', '20240917_19:59:10', '20240917_20:07:43', '20240917_20:27:48', '20240917_23:20:35', '20240917_23:40:37', '20240918_00:00:45', '20240918_00:21:01', '20240918_00:41:01', '20240918_01:01:01', '20240918_01:21:17', '20240918_01:41:17', '20240918_02:01:25', '20240918_02:34:53', '20240918_02:55:00', '20240918_03:15:00', '20240918_03:55:24', '20240918_04:15:24', '20240918_04:35:40', '20240918_04:55:56', '20240918_05:16:11', '20240918_05:36:12', '20240918_05:56:28', '20240918_06:16:28', '20240918_06:36:28', '20240918_06:56:43', '20240918_07:16:43', '20240918_07:36:44', '20240918_07:56:44', '20240918_08:16:44', '20240918_08:37:00', '20240918_08:57:00', '20240918_09:17:16', '20240918_09:37:32', '20240918_09:57:48', '20240918_10:17:48', '20240918_10:38:04', '20240918_10:55:25', '20240918_10:55:40', '20240918_10:58:04', '20240918_11:18:04', '20240918_11:38:20', '20240918_11:58:36', '20240918_12:18:52', '20240918_12:38:52', '20240918_12:59:08', '20240918_13:15:32', '20240918_13:22:12'])"
      ]
     },
     "execution_count": 7,
     "metadata": {},
     "output_type": "execute_result"
    }
   ],
   "source": [
    "data.keys()"
   ]
  },
  {
   "cell_type": "code",
   "execution_count": 5,
   "metadata": {},
   "outputs": [],
   "source": [
    "init_do = []\n",
    "for i in data:\n",
    "    if i[5:].isnumeric():\n",
    "        for j in data[i]:\n",
    "            entry = data[i][j]\n",
    "            if entry['type'] == \"truck\":\n",
    "                init_do.append(entry['init_do'])\n",
    "\n",
    "init_do = np.array(init_do)"
   ]
  },
  {
   "cell_type": "code",
   "execution_count": 4,
   "metadata": {},
   "outputs": [
    {
     "data": {
      "text/plain": [
       "array([  0,  10,  20,  30,  40,  50,  60,  70,  80,  90, 100, 110, 120,\n",
       "       130, 140, 150, 160, 170, 180])"
      ]
     },
     "execution_count": 4,
     "metadata": {},
     "output_type": "execute_result"
    }
   ],
   "source": [
    "np.arange(19) * 10"
   ]
  },
  {
   "cell_type": "code",
   "execution_count": 31,
   "metadata": {},
   "outputs": [
    {
     "data": {
      "text/plain": [
       "0"
      ]
     },
     "execution_count": 31,
     "metadata": {},
     "output_type": "execute_result"
    }
   ],
   "source": [
    "init_do = init_do.astype('int')\n",
    "init_do.min"
   ]
  },
  {
   "cell_type": "code",
   "execution_count": 36,
   "metadata": {},
   "outputs": [
    {
     "name": "stdout",
     "output_type": "stream",
     "text": [
      "[  0  10  20  30  40  50  60  70  80  90 100 110 120 130 140 150 160 170\n",
      " 180 190 200 210 220 230 240]\n",
      "[ 4 16 16 ... 15 15 15]\n",
      "[  0  12   0  47  54  76 110 317 444 393 478 646 636 575 435 365 284 260\n",
      " 118 114   0   0   0   0   4  92]\n",
      "113.87124542124542 38.791677304793815\n"
     ]
    },
    {
     "data": {
      "image/png": "[encoded data removed]",
      "text/plain": [
       "<Figure size 640x480 with 1 Axes>"
      ]
     },
     "metadata": {},
     "output_type": "display_data"
    }
   ],
   "source": [
    "bins = np.arange(25) * 10\n",
    "print(bins)\n",
    "indices = np.digitize(init_do, bins)\n",
    "print(indices)\n",
    "x = np.bincount(indices)\n",
    "print(x)\n",
    "plt.bar(bins, x[:-1], width=4)\n",
    "plt.xlabel(\"DO Calibration Value\")\n",
    "plt.ylabel(\"Number of Occurrences\")\n",
    "plt.savefig('calibration_occurences.png')\n",
    "\n",
    "print(init_do.mean(), init_do.std())"
   ]
  },
  {
   "cell_type": "code",
   "execution_count": 6,
   "metadata": {},
   "outputs": [
    {
     "name": "stdout",
     "output_type": "stream",
     "text": [
      "pond_1\n"
     ]
    },
    {
     "ename": "UnboundLocalError",
     "evalue": "cannot access local variable 'i_dt' where it is not associated with a value",
     "output_type": "error",
     "traceback": [
      "\u001b[0;31m---------------------------------------------------------------------------\u001b[0m",
      "\u001b[0;31mUnboundLocalError\u001b[0m                         Traceback (most recent call last)",
      "Cell \u001b[0;32mIn[6], line 2\u001b[0m\n\u001b[1;32m      1\u001b[0m dt_list \u001b[38;5;241m=\u001b[39m \u001b[38;5;28mlist\u001b[39m(data\u001b[38;5;241m.\u001b[39mkeys())\n\u001b[0;32m----> 2\u001b[0m dt \u001b[38;5;241m=\u001b[39m \u001b[43mto_datetime\u001b[49m\u001b[43m(\u001b[49m\u001b[43mdt_list\u001b[49m\u001b[43m)\u001b[49m\n\u001b[1;32m      4\u001b[0m init_do \u001b[38;5;241m=\u001b[39m data[dt_list[\u001b[38;5;241m0\u001b[39m]][\u001b[38;5;124m'\u001b[39m\u001b[38;5;124minit_do\u001b[39m\u001b[38;5;124m'\u001b[39m]\n\u001b[1;32m      5\u001b[0m init_p \u001b[38;5;241m=\u001b[39m data[dt_list[\u001b[38;5;241m0\u001b[39m]][\u001b[38;5;124m'\u001b[39m\u001b[38;5;124minit_pressure\u001b[39m\u001b[38;5;124m'\u001b[39m]\n",
      "Cell \u001b[0;32mIn[1], line 27\u001b[0m, in \u001b[0;36mto_datetime\u001b[0;34m(dates, zone, tz_aware)\u001b[0m\n\u001b[1;32m     24\u001b[0m \u001b[38;5;28;01mif\u001b[39;00m tz_aware:\n\u001b[1;32m     25\u001b[0m     \u001b[38;5;66;03m# tz = pytz.timezone('US/Eastern')\u001b[39;00m\n\u001b[1;32m     26\u001b[0m     tz \u001b[38;5;241m=\u001b[39m pytz\u001b[38;5;241m.\u001b[39mtimezone(\u001b[38;5;124m'\u001b[39m\u001b[38;5;124mUTC\u001b[39m\u001b[38;5;124m'\u001b[39m)\n\u001b[0;32m---> 27\u001b[0m     i_dt \u001b[38;5;241m=\u001b[39m tz\u001b[38;5;241m.\u001b[39mlocalize(\u001b[43mi_dt\u001b[49m)\n\u001b[1;32m     28\u001b[0m     dt\u001b[38;5;241m.\u001b[39mappend(i_dt\u001b[38;5;241m.\u001b[39mastimezone(pytz\u001b[38;5;241m.\u001b[39mtimezone(zone)))\n\u001b[1;32m     29\u001b[0m \u001b[38;5;28;01melse\u001b[39;00m:\n",
      "\u001b[0;31mUnboundLocalError\u001b[0m: cannot access local variable 'i_dt' where it is not associated with a value"
     ]
    }
   ],
   "source": [
    "dt_list = list(data.keys())\n",
    "dt = to_datetime(dt_list)\n",
    "\n",
    "init_do = data[dt_list[0]]['init_do']\n",
    "init_p = data[dt_list[0]]['init_pressure']\n",
    "\n",
    "t = np.array([np.mean(data[i]['temp']) for i in data])\n",
    "do = np.array([np.mean(data[i]['do'])/init_do for i in data]) * 100\n",
    "p = np.array([np.mean(data[i]['pressure']) - init_p for i in data]) * 0.010227\n",
    "batt_v = np.array([data[i]['batt_v'] for i in data])\n",
    "\n",
    "print(dt[-1], data[dt_list[-1]]['batt_v'])"
   ]
  },
  {
   "cell_type": "markdown",
   "metadata": {},
   "source": [
    "## MAKE CSV\n",
    "\n",
    "Create a CSV of data for a certain date range"
   ]
  },
  {
   "cell_type": "code",
   "execution_count": 22,
   "metadata": {},
   "outputs": [],
   "source": [
    "data = db.reference(\"LH_Farm/pond_51\").order_by_key().start_at(\"20240910_\").get()"
   ]
  },
  {
   "cell_type": "code",
   "execution_count": 23,
   "metadata": {},
   "outputs": [],
   "source": [
    "dt = to_datetime(data.keys(), \"UTC\")\n",
    "\n",
    "initial_pressure = np.array([data[i]['init_pressure'] for i in data]).astype('float')\n",
    "pressure = np.array([data[i]['pressure'][-1] for i in data]).astype('float')\n",
    "depth = (pressure - initial_pressure) * 0.010227\n",
    "\n",
    "initial_DO = np.array([data[i]['init_do'] for i in data]).astype('float')\n",
    "do = np.array([data[i]['do'][-1] for i in data]).astype('float') / initial_DO\n",
    "\n",
    "latitude = np.array([round(float(data[i]['lat']), 4) for i in data])\n",
    "longitude = np.array([round(float(data[i]['lng']), 4) for i in data])\n",
    "pids = np.array([data[i]['pid'] for i in data])\n",
    "types = np.array([data[i]['type'] for i in data])\n",
    "sids = np.array([data[i]['sid'] for i in data])\n",
    "temperature = np.array([data[i]['temp'][-1] for i in data]).astype('float')\n",
    "\n",
    "\n",
    "\n",
    "df = pd.DataFrame({'time': dt, 'initial_pressure':initial_pressure, 'pressure':pressure, 'depth':depth,\n",
    "                   'initial_DO':initial_DO, 'DO':do, 'temperature':temperature, 'latitude':latitude,\n",
    "                    'longitude':longitude, 'pond_id':pids, 'sensor_type':types, 'sensor_id':sids})\n",
    "\n",
    "# 'latitude':latitude, 'longitude':longitude\n",
    "\n",
    "df.to_csv('pond51.csv')"
   ]
  },
  {
   "cell_type": "markdown",
   "metadata": {},
   "source": [
    "## WEATHER DATA"
   ]
  },
  {
   "cell_type": "code",
   "execution_count": 20,
   "metadata": {},
   "outputs": [],
   "source": [
    "import urllib.request\n",
    "import json\n",
    "import time\n",
    "from datetime import datetime, timedelta, timezone\n",
    "from matplotlib import pyplot as plt\n",
    "from matplotlib import pyplot as plt\n",
    "from matplotlib import dates as mdates\n",
    "import pytz\n",
    "\n",
    "duration = 10 #day\n",
    "start = str(round(time.time() * 1000) -  duration * 24 * 60 * 60  * 1000) #10 minutes\n",
    "end = str(round(time.time() * 1000))\n",
    "\n",
    "with urllib.request.urlopen('https://api.sensestream.org/observations/measurements/hboi_aqua_2/0?start=' + start + '&end=' + end) as response:\n",
    "   weather_data = json.load(response)"
   ]
  },
  {
   "cell_type": "code",
   "execution_count": 26,
   "metadata": {},
   "outputs": [],
   "source": [
    "dt = [datetime.fromtimestamp(i['time'] / 1000, timezone.utc) for i in weather_data['result']]\n",
    "temp = [32 + (9 / 5 * i['readings'][7]) for i in weather_data['result']]\n",
    "wind_dir = [i['readings'][2] for i in weather_data['result']]\n",
    "wind_spd = [i['readings'][5] for i in weather_data['result']]\n",
    "rain = [i['readings'][12] for i in weather_data['result']]\n",
    "solar_rad = [i['readings'][18] for i in weather_data['result']]\n",
    "baro = [i['readings'][0] for i in weather_data['result']]\n",
    "rh = [i['readings'][9] for i in weather_data['result']]\n",
    "\n",
    "df = pd.DataFrame({'time': dt, 'temperature_f':temp, 'wind_direction':wind_dir, 'wind_speed':wind_spd,\n",
    "                   'rain_intensity':rain, 'solar_radiation':solar_rad, \"pressure\":baro, 'relative_humidity':rh})\n",
    "\n",
    "df.to_csv('weather.csv')"
   ]
  }
 ],
 "metadata": {
  "kernelspec": {
   "display_name": "lab2",
   "language": "python",
   "name": "python3"
  },
  "language_info": {
   "codemirror_mode": {
    "name": "ipython",
    "version": 3
   },
   "file_extension": ".py",
   "mimetype": "text/x-python",
   "name": "python",
   "nbconvert_exporter": "python",
   "pygments_lexer": "ipython3",
   "version": "3.11.4"
  }
 },
 "nbformat": 4,
 "nbformat_minor": 2
}
