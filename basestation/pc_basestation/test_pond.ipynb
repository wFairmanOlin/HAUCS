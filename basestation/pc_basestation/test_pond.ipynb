{
 "cells": [
  {
   "cell_type": "code",
   "execution_count": 1,
   "metadata": {},
   "outputs": [],
   "source": [
    "import numpy as np\n",
    "import pandas as pd"
   ]
  },
  {
   "cell_type": "code",
   "execution_count": 2,
   "metadata": {},
   "outputs": [
    {
     "data": {
      "text/html": [
       "<div>\n",
       "<style scoped>\n",
       "    .dataframe tbody tr th:only-of-type {\n",
       "        vertical-align: middle;\n",
       "    }\n",
       "\n",
       "    .dataframe tbody tr th {\n",
       "        vertical-align: top;\n",
       "    }\n",
       "\n",
       "    .dataframe thead th {\n",
       "        text-align: right;\n",
       "    }\n",
       "</style>\n",
       "<table border=\"1\" class=\"dataframe\">\n",
       "  <thead>\n",
       "    <tr style=\"text-align: right;\">\n",
       "      <th></th>\n",
       "      <th>lon</th>\n",
       "      <th>lat</th>\n",
       "    </tr>\n",
       "  </thead>\n",
       "  <tbody>\n",
       "    <tr>\n",
       "      <th>0</th>\n",
       "      <td>-89.460093</td>\n",
       "      <td>37.706560</td>\n",
       "    </tr>\n",
       "    <tr>\n",
       "      <th>1</th>\n",
       "      <td>-89.459482</td>\n",
       "      <td>37.705398</td>\n",
       "    </tr>\n",
       "    <tr>\n",
       "      <th>2</th>\n",
       "      <td>-89.459480</td>\n",
       "      <td>37.704612</td>\n",
       "    </tr>\n",
       "    <tr>\n",
       "      <th>3</th>\n",
       "      <td>-89.459498</td>\n",
       "      <td>37.703755</td>\n",
       "    </tr>\n",
       "    <tr>\n",
       "      <th>4</th>\n",
       "      <td>-89.461773</td>\n",
       "      <td>37.703185</td>\n",
       "    </tr>\n",
       "  </tbody>\n",
       "</table>\n",
       "</div>"
      ],
      "text/plain": [
       "         lon        lat\n",
       "0 -89.460093  37.706560\n",
       "1 -89.459482  37.705398\n",
       "2 -89.459480  37.704612\n",
       "3 -89.459498  37.703755\n",
       "4 -89.461773  37.703185"
      ]
     },
     "execution_count": 2,
     "metadata": {},
     "output_type": "execute_result"
    }
   ],
   "source": [
    "df = pd.read_csv('sampling_points.csv')\n",
    "pond_ids = df.pop('pond')\n",
    "pond_gps = df.to_numpy()\n",
    "df.head()"
   ]
  },
  {
   "cell_type": "code",
   "execution_count": 4,
   "metadata": {},
   "outputs": [
    {
     "name": "stdout",
     "output_type": "stream",
     "text": [
      "min distance from sampling point:  41 meters\n"
     ]
    },
    {
     "data": {
      "text/plain": [
       "14"
      ]
     },
     "execution_count": 4,
     "metadata": {},
     "output_type": "execute_result"
    }
   ],
   "source": [
    "#sample point for pond 14: -89.466749, 37.704101\n",
    "#invalid sample point:     -89.464443, 37.701307\n",
    "# -89.466331, 37.703659\n",
    "sample = np.array([-89.466749, 37.704101])\n",
    "sample = np.array([-89.466331, 37.703659])\n",
    "#duplicate sample point for every listed pond\n",
    "sample_y = np.tile(sample, (pond_gps.shape[0], 1))\n",
    "#calculate euclidean distances\n",
    "distances = np.linalg.norm(pond_gps - sample_y, axis=1)\n",
    "#calcualte minimum distance in meters\n",
    "min_dist = distances.min() * 111_000\n",
    "print(\"min distance from sampling point: \", round(min_dist), \"meters\")\n",
    "\n",
    "#determine if min distance is acceptable\n",
    "if (min_dist < 100):\n",
    "    #find pond associated with minimum distance\n",
    "    pond_id = pond_ids[np.argmin(distances)]\n",
    "else:\n",
    "    pond_id = \"unknown\"\n",
    "\n",
    "pond_id"
   ]
  },
  {
   "cell_type": "code",
   "execution_count": 1,
   "metadata": {},
   "outputs": [],
   "source": [
    "import firebase_admin\n",
    "from firebase_admin import credentials\n",
    "from firebase_admin import db\n",
    "folder = \"\"\n",
    "cred = credentials.Certificate(folder + \"fb_key.json\")\n",
    "app = firebase_admin.initialize_app(cred, {'databaseURL': 'https://haucs-monitoring-default-rtdb.firebaseio.com'})\n"
   ]
  },
  {
   "cell_type": "code",
   "execution_count": 2,
   "metadata": {},
   "outputs": [
    {
     "data": {
      "text/plain": [
       "['3094126264@vtext.com', 'wfairman@fau.edu', '6183030525@vtext.com']"
      ]
     },
     "execution_count": 2,
     "metadata": {},
     "output_type": "execute_result"
    }
   ],
   "source": [
    "db.reference('LH_Farm/email/truck_notifications').get()"
   ]
  },
  {
   "cell_type": "code",
   "execution_count": 33,
   "metadata": {},
   "outputs": [],
   "source": [
    "ref_recent = db.reference('/LH_Farm/recent')\n",
    "recent_data = ref_recent.order_by_key().limit_to_last(9).get()"
   ]
  },
  {
   "cell_type": "code",
   "execution_count": 51,
   "metadata": {},
   "outputs": [],
   "source": [
    "data = recent_data['20230704_12:40:00']\n",
    "\n",
    "recent_data['20230706_11:12:23'] = data\n",
    "\n",
    "ref_recent.set(recent_data)"
   ]
  }
 ],
 "metadata": {
  "kernelspec": {
   "display_name": "lab2",
   "language": "python",
   "name": "python3"
  },
  "language_info": {
   "codemirror_mode": {
    "name": "ipython",
    "version": 3
   },
   "file_extension": ".py",
   "mimetype": "text/x-python",
   "name": "python",
   "nbconvert_exporter": "python",
   "pygments_lexer": "ipython3",
   "version": "3.11.4"
  },
  "orig_nbformat": 4
 },
 "nbformat": 4,
 "nbformat_minor": 2
}
